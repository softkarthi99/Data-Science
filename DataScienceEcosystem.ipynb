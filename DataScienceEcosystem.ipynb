{
 "cells": [
  {
   "cell_type": "markdown",
   "metadata": {},
   "source": [
    "<center>\n",
    "    <img src=\"https://cf-courses-data.s3.us.cloud-object-storage.appdomain.cloud/IBMDeveloperSkillsNetwork-DS0105EN-SkillsNetwork/labs/Module2/images/SN_web_lightmode.png\" width=\"300\" alt=\"cognitiveclass.ai logo\">\n",
    "</center>\n"
   ]
  },
  {
   "cell_type": "markdown",
   "metadata": {},
   "source": [
    "#### Add your code below following the instructions given in the course\n"
   ]
  },
  {
   "cell_type": "code",
   "execution_count": 4,
   "metadata": {
    "tags": []
   },
   "outputs": [
    {
     "name": "stdout",
     "output_type": "stream",
     "text": [
      "30\n",
      "karthi\n"
     ]
    }
   ],
   "source": [
    "a=20\n",
    "b=10\n",
    "print(a+b)\n",
    "\n",
    "\n",
    "\n",
    "print(\"karthi\")\n"
   ]
  },
  {
   "cell_type": "code",
   "execution_count": 5,
   "metadata": {
    "tags": []
   },
   "outputs": [
    {
     "name": "stdout",
     "output_type": "stream",
     "text": [
      "20\n"
     ]
    }
   ],
   "source": [
    "print (a)"
   ]
  },
  {
   "cell_type": "code",
   "execution_count": 6,
   "metadata": {
    "tags": []
   },
   "outputs": [
    {
     "data": {
      "text/markdown": [
       "# My Python Notebook"
      ],
      "text/plain": [
       "<IPython.core.display.Markdown object>"
      ]
     },
     "metadata": {},
     "output_type": "display_data"
    }
   ],
   "source": [
    "from IPython.display import Markdown, display\n",
    "\n",
    "# Displaying the title of the notebook in a markdown cell\n",
    "def notebook_title(title):\n",
    "    display(Markdown(f\"# {title}\"))\n",
    "\n",
    "# Call the function with the desired title\n",
    "notebook_title(\"My Python Notebook\")"
   ]
  },
  {
   "cell_type": "code",
   "execution_count": 8,
   "metadata": {
    "tags": []
   },
   "outputs": [
    {
     "data": {
      "text/markdown": [
       "\n",
       "## Introduction\n",
       "\n",
       "Welcome to this Python notebook.\n"
      ],
      "text/plain": [
       "<IPython.core.display.Markdown object>"
      ]
     },
     "metadata": {},
     "output_type": "display_data"
    }
   ],
   "source": [
    "from IPython.display import Markdown, display\n",
    "\n",
    "# Displaying the introduction of the notebook in a markdown cell\n",
    "def notebook_introduction(introduction):\n",
    "    display(Markdown(introduction))\n",
    "\n",
    "# Call the function with the desired introduction content\n",
    "notebook_introduction(\"\"\"\n",
    "## Introduction\n",
    "\n",
    "Welcome to this Python notebook.\n",
    "\"\"\")"
   ]
  },
  {
   "cell_type": "code",
   "execution_count": 16,
   "metadata": {
    "tags": []
   },
   "outputs": [
    {
     "data": {
      "text/markdown": [
       "\n",
       "## Data Science Languages are below\n",
       "\n",
       "1. **Python**\n",
       "2. **R**\n",
       "3. **SQL**\n",
       "4. **Julia**\n",
       "5. **Scala**\n",
       "6. **Java**\n",
       "7. **MATLAB**\n",
       "8. **SAS**\n"
      ],
      "text/plain": [
       "<IPython.core.display.Markdown object>"
      ]
     },
     "metadata": {},
     "output_type": "display_data"
    }
   ],
   "source": [
    "from IPython.display import Markdown, display\n",
    "\n",
    "# Displaying a markdown cell to list data science languages\n",
    "def list_data_science_languages(langugages):\n",
    "    display(Markdown(langugages))\n",
    "list_data_science_languages(\"\"\"\n",
    "## Data Science Languages are below\n",
    "\n",
    "1. **Python**\n",
    "2. **R**\n",
    "3. **SQL**\n",
    "4. **Julia**\n",
    "5. **Scala**\n",
    "6. **Java**\n",
    "7. **MATLAB**\n",
    "8. **SAS**\n",
    "\"\"\")"
   ]
  },
  {
   "cell_type": "code",
   "execution_count": null,
   "metadata": {},
   "outputs": [],
   "source": []
  },
  {
   "cell_type": "code",
   "execution_count": 17,
   "metadata": {
    "tags": []
   },
   "outputs": [
    {
     "data": {
      "text/markdown": [
       "\n",
       "## Data Science Libraries\n",
       "\n",
       "Here are some popular Python libraries used in data science:\n",
       "\n",
       "1. **Pandas** - for data manipulation and analysis\n",
       "2. **NumPy** - for numerical computing\n",
       "3. **Matplotlib** - for data visualization\n",
       "4. **Seaborn** - for statistical data visualization\n",
       "5. **Scikit-learn** - for machine learning\n",
       "6. **TensorFlow** - for deep learning\n",
       "7. **Keras** - for deep learning\n",
       "8. **PyTorch** - for deep learning\n",
       "9. **Statsmodels** - for statistical modeling\n",
       "10. **SciPy** - for scientific computing\n",
       "\n",
       "These libraries provide tools to perform various tasks, from data manipulation to machine learning and deep learning.\n"
      ],
      "text/plain": [
       "<IPython.core.display.Markdown object>"
      ]
     },
     "metadata": {},
     "output_type": "display_data"
    }
   ],
   "source": [
    "from IPython.display import Markdown, display\n",
    "\n",
    "# Displaying a markdown cell to list data science libraries\n",
    "def list_data_science_libraries():\n",
    "    display(Markdown(\"\"\"\n",
    "## Data Science Libraries\n",
    "\n",
    "Here are some popular Python libraries used in data science:\n",
    "\n",
    "1. **Pandas** - for data manipulation and analysis\n",
    "2. **NumPy** - for numerical computing\n",
    "3. **Matplotlib** - for data visualization\n",
    "4. **Seaborn** - for statistical data visualization\n",
    "5. **Scikit-learn** - for machine learning\n",
    "6. **TensorFlow** - for deep learning\n",
    "7. **Keras** - for deep learning\n",
    "8. **PyTorch** - for deep learning\n",
    "9. **Statsmodels** - for statistical modeling\n",
    "10. **SciPy** - for scientific computing\n",
    "\n",
    "These libraries provide tools to perform various tasks, from data manipulation to machine learning and deep learning.\n",
    "\"\"\"))\n",
    "\n",
    "# Call the function to display the list\n",
    "list_data_science_libraries()"
   ]
  },
  {
   "cell_type": "code",
   "execution_count": 18,
   "metadata": {
    "tags": []
   },
   "outputs": [
    {
     "data": {
      "text/markdown": [
       "\n",
       "## Data Science Tools\n",
       "\n",
       "| Tool               | Description                                  |\n",
       "|--------------------|----------------------------------------------|\n",
       "| Jupyter Notebooks   | Interactive environment for code, visualization, and documentation. |\n",
       "| RStudio            | Integrated development environment (IDE) for R programming. |\n",
       "| Apache Hadoop      | Framework for distributed storage and processing of big data. |\n",
       "| Apache Spark       | Unified analytics engine for big data processing. |\n",
       "| TensorFlow         | Open-source library for machine learning and deep learning. |\n",
       "| KNIME              | Open-source platform for data analytics and reporting. |\n",
       "| Tableau            | Data visualization software for creating interactive dashboards. |\n",
       "| Power BI           | Business analytics service by Microsoft for data visualization. |\n",
       "\n",
       "This table lists some of the key tools used in data science, providing environments and frameworks for data processing, analysis, and visualization.\n"
      ],
      "text/plain": [
       "<IPython.core.display.Markdown object>"
      ]
     },
     "metadata": {},
     "output_type": "display_data"
    }
   ],
   "source": [
    "from IPython.display import Markdown, display\n",
    "\n",
    "# Displaying a markdown cell with a table of Data Science tools\n",
    "def data_science_tools_table():\n",
    "    display(Markdown(\"\"\"\n",
    "## Data Science Tools\n",
    "\n",
    "| Tool               | Description                                  |\n",
    "|--------------------|----------------------------------------------|\n",
    "| Jupyter Notebooks   | Interactive environment for code, visualization, and documentation. |\n",
    "| RStudio            | Integrated development environment (IDE) for R programming. |\n",
    "| Apache Hadoop      | Framework for distributed storage and processing of big data. |\n",
    "| Apache Spark       | Unified analytics engine for big data processing. |\n",
    "| TensorFlow         | Open-source library for machine learning and deep learning. |\n",
    "| KNIME              | Open-source platform for data analytics and reporting. |\n",
    "| Tableau            | Data visualization software for creating interactive dashboards. |\n",
    "| Power BI           | Business analytics service by Microsoft for data visualization. |\n",
    "\n",
    "This table lists some of the key tools used in data science, providing environments and frameworks for data processing, analysis, and visualization.\n",
    "\"\"\"))\n",
    "\n",
    "# Call the function to display the table\n",
    "data_science_tools_table()"
   ]
  },
  {
   "cell_type": "code",
   "execution_count": 19,
   "metadata": {
    "tags": []
   },
   "outputs": [
    {
     "data": {
      "text/markdown": [
       "\n",
       "## Arithmetic Expression Examples\n",
       "\n",
       "In Python, arithmetic expressions are used to perform mathematical operations such as addition, subtraction, multiplication, and division. \n",
       "Below are some examples of basic arithmetic operations:\n",
       "\n",
       "- **Addition (+)**: Adds two numbers.\n",
       "- **Subtraction (-)**: Subtracts one number from another.\n",
       "- **Multiplication (*)**: Multiplies two numbers.\n",
       "- **Division (/)**: Divides one number by another.\n",
       "- **Exponentiation (**)**: Raises a number to the power of another.\n",
       "- **Modulus (%)**: Returns the remainder of a division.\n",
       "\n",
       "Let's explore some examples of these arithmetic operations.\n"
      ],
      "text/plain": [
       "<IPython.core.display.Markdown object>"
      ]
     },
     "metadata": {},
     "output_type": "display_data"
    }
   ],
   "source": [
    "from IPython.display import Markdown, display\n",
    "\n",
    "# Displaying a markdown cell introducing arithmetic expression examples\n",
    "def arithmetic_expression_introduction():\n",
    "    display(Markdown(\"\"\"\n",
    "## Arithmetic Expression Examples\n",
    "\n",
    "In Python, arithmetic expressions are used to perform mathematical operations such as addition, subtraction, multiplication, and division. \n",
    "Below are some examples of basic arithmetic operations:\n",
    "\n",
    "- **Addition (+)**: Adds two numbers.\n",
    "- **Subtraction (-)**: Subtracts one number from another.\n",
    "- **Multiplication (*)**: Multiplies two numbers.\n",
    "- **Division (/)**: Divides one number by another.\n",
    "- **Exponentiation (**)**: Raises a number to the power of another.\n",
    "- **Modulus (%)**: Returns the remainder of a division.\n",
    "\n",
    "Let's explore some examples of these arithmetic operations.\n",
    "\"\"\"))\n",
    "\n",
    "# Call the function to display the introduction\n",
    "arithmetic_expression_introduction()"
   ]
  },
  {
   "cell_type": "code",
   "execution_count": 22,
   "metadata": {
    "tags": []
   },
   "outputs": [
    {
     "name": "stdout",
     "output_type": "stream",
     "text": [
      " multiply of 30 and 40 are 1200\n",
      " addition of 30 and 40 are 70\n"
     ]
    }
   ],
   "source": [
    "#funcion\n",
    "def multiply_and_addition(a,b):\n",
    "    multiply = a * b\n",
    "    addition = a + b\n",
    "    return multiply, addition\n",
    "\n",
    "a = 30\n",
    "b = 40\n",
    "\n",
    "multiply, addition=multiply_and_addition(a,b)\n",
    "print(f\" multiply of {a} and {b} are {multiply}\")\n",
    "print(f\" addition of {a} and {b} are {addition}\")\n",
    "      \n",
    "      "
   ]
  },
  {
   "cell_type": "code",
   "execution_count": 25,
   "metadata": {
    "tags": []
   },
   "outputs": [
    {
     "name": "stdout",
     "output_type": "stream",
     "text": [
      " 600 minutes is equal to 10.0 hours\n"
     ]
    }
   ],
   "source": [
    "#function \n",
    "def covert_minutes_to_hour(a):\n",
    "    converted_hours= a / 60\n",
    "    return converted_hours\n",
    "\n",
    "a = 600\n",
    "converted_hours=covert_minutes_to_hour(a)\n",
    "print(f\" {a} minutes is equal to {converted_hours} hours\")\n"
   ]
  },
  {
   "cell_type": "code",
   "execution_count": 26,
   "metadata": {
    "tags": []
   },
   "outputs": [
    {
     "data": {
      "text/markdown": [
       "\n",
       "## Objectives\n",
       "\n",
       "By the end of this notebook, you will be able to:\n",
       "\n",
       "1. Understand basic arithmetic operations in Python.\n",
       "2. Perform addition and multiplication of numbers.\n",
       "3. Familiarize yourself with common data science tools and libraries.\n",
       "4. Write and execute Python code within Jupyter notebooks.\n",
       "5. Explore data science languages and tools for future projects.\n"
      ],
      "text/plain": [
       "<IPython.core.display.Markdown object>"
      ]
     },
     "metadata": {},
     "output_type": "display_data"
    }
   ],
   "source": [
    "from IPython.display import Markdown, display\n",
    "\n",
    "# Displaying a markdown cell with objectives\n",
    "def list_objectives():\n",
    "    display(Markdown(\"\"\"\n",
    "## Objectives\n",
    "\n",
    "By the end of this notebook, you will be able to:\n",
    "\n",
    "1. Understand basic arithmetic operations in Python.\n",
    "2. Perform addition and multiplication of numbers.\n",
    "3. Familiarize yourself with common data science tools and libraries.\n",
    "4. Write and execute Python code within Jupyter notebooks.\n",
    "5. Explore data science languages and tools for future projects.\n",
    "\"\"\"))\n",
    "\n",
    "# Call the function to display the objectives\n",
    "list_objectives()"
   ]
  },
  {
   "cell_type": "code",
   "execution_count": null,
   "metadata": {},
   "outputs": [],
   "source": []
  },
  {
   "cell_type": "code",
   "execution_count": null,
   "metadata": {},
   "outputs": [],
   "source": []
  },
  {
   "cell_type": "code",
   "execution_count": 28,
   "metadata": {
    "tags": []
   },
   "outputs": [
    {
     "data": {
      "text/markdown": [
       "\n",
       "## Author\n",
       "\n",
       "**Name:** Muthu Karthikeyan\n"
      ],
      "text/plain": [
       "<IPython.core.display.Markdown object>"
      ]
     },
     "metadata": {},
     "output_type": "display_data"
    }
   ],
   "source": [
    "from IPython.display import Markdown, display\n",
    "\n",
    "# Displaying a markdown cell with the author's name\n",
    "def author_name(author):\n",
    "    display(Markdown(f\"\"\"\n",
    "## Author\n",
    "\n",
    "**Name:** {author}\n",
    "\"\"\"))\n",
    "\n",
    "# Call the function with the author's name\n",
    "author_name(\"Muthu Karthikeyan\")"
   ]
  },
  {
   "cell_type": "code",
   "execution_count": 29,
   "metadata": {
    "tags": []
   },
   "outputs": [
    {
     "name": "stdout",
     "output_type": "stream",
     "text": [
      "ccompleted\n"
     ]
    }
   ],
   "source": [
    "print (\"ccompleted\")"
   ]
  },
  {
   "cell_type": "code",
   "execution_count": null,
   "metadata": {},
   "outputs": [],
   "source": []
  }
 ],
 "metadata": {
  "kernelspec": {
   "display_name": "Python",
   "language": "python",
   "name": "conda-env-python-py"
  },
  "language_info": {
   "codemirror_mode": {
    "name": "ipython",
    "version": 3
   },
   "file_extension": ".py",
   "mimetype": "text/x-python",
   "name": "python",
   "nbconvert_exporter": "python",
   "pygments_lexer": "ipython3",
   "version": "3.7.12"
  }
 },
 "nbformat": 4,
 "nbformat_minor": 4
}
